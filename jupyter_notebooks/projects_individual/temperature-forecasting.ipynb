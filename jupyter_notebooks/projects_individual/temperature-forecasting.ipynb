{
 "cells": [
  {
   "cell_type": "markdown",
   "metadata": {},
   "source": [
    "<center>\n",
    "<img src=\"../../img/ods_stickers.jpg\">\n",
    "## Открытый курс по машинному обучению. Сессия № 2\n",
    "\n",
    "### <center> Автор материала: Андрей Шапиро "
   ]
  },
  {
   "cell_type": "markdown",
   "metadata": {},
   "source": [
    "# <center>Прогнозирование дневных температур в городе Челябинске</center>\n",
    "### <center> Индивидуальный проект по анализу данных</center>"
   ]
  },
  {
   "cell_type": "markdown",
   "metadata": {},
   "source": [
    "**План исследования**\n",
    " - Описание набора данных и признаков\n",
    " - Первичный анализ признаков\n",
    " - Первичный визуальный анализ признаков\n",
    " - Закономерности, \"инсайты\", особенности данных\n",
    " - Предобработка данных\n",
    " - Создание новых признаков и описание этого процесса\n",
    " - Кросс-валидация, подбор параметров\n",
    " - Построение кривых валидации и обучения \n",
    " - Прогноз для тестовой или отложенной выборки\n",
    " - Оценка модели с описанием выбранной метрики\n",
    " - Выводы\n",
    " \n",
    " Более детальное описание [тут](https://goo.gl/cJbw7V)."
   ]
  },
  {
   "cell_type": "code",
   "execution_count": 214,
   "metadata": {
    "collapsed": true
   },
   "outputs": [],
   "source": [
    "import numpy as np\n",
    "import pandas as pd\n",
    "import datetime\n",
    "import seaborn as sns\n",
    "from matplotlib import pyplot as plt\n",
    "%matplotlib inline"
   ]
  },
  {
   "cell_type": "markdown",
   "metadata": {},
   "source": [
    "###  Часть 1. Описание набора данных и признаков"
   ]
  },
  {
   "cell_type": "code",
   "execution_count": 197,
   "metadata": {
    "collapsed": true
   },
   "outputs": [],
   "source": [
    "df = pd.read_csv('chelpogoda.csv', sep=';',\n",
    "                 dtype = {'datetime': str,\n",
    "                           'temperature': np.int32,\n",
    "                           'humidity': np.int32,\n",
    "                           'pressure': np.int32,\n",
    "                           'magnetic': str,\n",
    "                           'wind': str\n",
    "                })"
   ]
  },
  {
   "cell_type": "code",
   "execution_count": 198,
   "metadata": {
    "collapsed": true
   },
   "outputs": [],
   "source": [
    "df['datetime'] = pd.to_datetime(df['datetime'], format='%Y-%m-%d, %H:%M', errors='coerce')"
   ]
  },
  {
   "cell_type": "code",
   "execution_count": 199,
   "metadata": {},
   "outputs": [
    {
     "data": {
      "text/html": [
       "<div>\n",
       "<style>\n",
       "    .dataframe thead tr:only-child th {\n",
       "        text-align: right;\n",
       "    }\n",
       "\n",
       "    .dataframe thead th {\n",
       "        text-align: left;\n",
       "    }\n",
       "\n",
       "    .dataframe tbody tr th {\n",
       "        vertical-align: top;\n",
       "    }\n",
       "</style>\n",
       "<table border=\"1\" class=\"dataframe\">\n",
       "  <thead>\n",
       "    <tr style=\"text-align: right;\">\n",
       "      <th></th>\n",
       "      <th>datetime</th>\n",
       "      <th>temperature</th>\n",
       "      <th>humidity</th>\n",
       "      <th>pressure</th>\n",
       "      <th>magnetic</th>\n",
       "      <th>wind</th>\n",
       "    </tr>\n",
       "  </thead>\n",
       "  <tbody>\n",
       "    <tr>\n",
       "      <th>0</th>\n",
       "      <td>2008-06-18 15:00:00</td>\n",
       "      <td>28</td>\n",
       "      <td>39</td>\n",
       "      <td>740</td>\n",
       "      <td>Геомагнитное поле спокойное</td>\n",
       "      <td>Ветер 3 м/с</td>\n",
       "    </tr>\n",
       "    <tr>\n",
       "      <th>1</th>\n",
       "      <td>2008-06-19 09:00:00</td>\n",
       "      <td>19</td>\n",
       "      <td>63</td>\n",
       "      <td>741</td>\n",
       "      <td>Геомагнитное поле спокойное</td>\n",
       "      <td>Ветер юго-восточный 2 м/с</td>\n",
       "    </tr>\n",
       "    <tr>\n",
       "      <th>2</th>\n",
       "      <td>2008-06-19 15:00:00</td>\n",
       "      <td>30</td>\n",
       "      <td>27</td>\n",
       "      <td>741</td>\n",
       "      <td>Геомагнитное поле спокойное</td>\n",
       "      <td>Ветер южный 2-5 м/с</td>\n",
       "    </tr>\n",
       "    <tr>\n",
       "      <th>3</th>\n",
       "      <td>2008-06-20 09:00:00</td>\n",
       "      <td>21</td>\n",
       "      <td>50</td>\n",
       "      <td>740</td>\n",
       "      <td>Геомагнитное поле спокойное</td>\n",
       "      <td>Ветер южный - 1 м/с</td>\n",
       "    </tr>\n",
       "    <tr>\n",
       "      <th>4</th>\n",
       "      <td>2008-06-20 15:00:00</td>\n",
       "      <td>32</td>\n",
       "      <td>31</td>\n",
       "      <td>740</td>\n",
       "      <td>Геомагнитное поле спокойное</td>\n",
       "      <td>Ветер юго-западный 3-7 м/с</td>\n",
       "    </tr>\n",
       "  </tbody>\n",
       "</table>\n",
       "</div>"
      ],
      "text/plain": [
       "             datetime  temperature  humidity  pressure  \\\n",
       "0 2008-06-18 15:00:00           28        39       740   \n",
       "1 2008-06-19 09:00:00           19        63       741   \n",
       "2 2008-06-19 15:00:00           30        27       741   \n",
       "3 2008-06-20 09:00:00           21        50       740   \n",
       "4 2008-06-20 15:00:00           32        31       740   \n",
       "\n",
       "                      magnetic                        wind  \n",
       "0  Геомагнитное поле спокойное                 Ветер 3 м/с  \n",
       "1  Геомагнитное поле спокойное   Ветер юго-восточный 2 м/с  \n",
       "2  Геомагнитное поле спокойное         Ветер южный 2-5 м/с  \n",
       "3  Геомагнитное поле спокойное         Ветер южный - 1 м/с  \n",
       "4  Геомагнитное поле спокойное  Ветер юго-западный 3-7 м/с  "
      ]
     },
     "execution_count": 199,
     "metadata": {},
     "output_type": "execute_result"
    }
   ],
   "source": [
    "df.head()"
   ]
  },
  {
   "cell_type": "markdown",
   "metadata": {},
   "source": [
    "Данные о магнитном поле и ветре в текстовом виде и частично загрязнены ошибками ввода."
   ]
  },
  {
   "cell_type": "markdown",
   "metadata": {},
   "source": [
    "#### Магнитное поле"
   ]
  },
  {
   "cell_type": "code",
   "execution_count": 207,
   "metadata": {},
   "outputs": [
    {
     "data": {
      "text/plain": [
       "array(['Геомагнитное поле : неустойчивое', 'Геомагнитное поле : спокойное',\n",
       "       'Геомагнитное поле :спокойное', 'Геомагнитное поле ?????????',\n",
       "       'Геомагнитное поле cпокойное', 'Геомагнитное поле Спокойное',\n",
       "       'Геомагнитное поле возможно неустойчивое',\n",
       "       'Геомагнитное поле возможно слабо возмущенное',\n",
       "       'Геомагнитное поле возмущенное'], dtype=object)"
      ]
     },
     "execution_count": 207,
     "metadata": {},
     "output_type": "execute_result"
    }
   ],
   "source": [
    "np.unique(df['magnetic'])[1:10]"
   ]
  },
  {
   "cell_type": "markdown",
   "metadata": {},
   "source": [
    "Создадим из текстового описания магнитного поля три категориальных переменных, соответствующих спокойному, неустойчивому и возмущенному геомагнитное полю"
   ]
  },
  {
   "cell_type": "code",
   "execution_count": 201,
   "metadata": {},
   "outputs": [],
   "source": [
    "df['magn_calm'] = df['magnetic'].str.match('.*[cс][по][рко].*').astype(int)\n",
    "df['magn_unstable'] = df['magnetic'].str.match('.*не[уч]с?то.*').astype(int)\n",
    "df['magn_disturbant'] = df['magnetic'].str.match('.*возмущ.*').astype(int)"
   ]
  },
  {
   "cell_type": "markdown",
   "metadata": {},
   "source": [
    "#### Ветер"
   ]
  },
  {
   "cell_type": "code",
   "execution_count": 209,
   "metadata": {},
   "outputs": [
    {
     "data": {
      "text/plain": [
       "array(['Ветер 2-6 м/с', 'Ветер 3 м/с', 'Ветер 80',\n",
       "       'Ветер :Западный 2-6 м/с', 'Ветер :Западный 3-8 м/с',\n",
       "       'Ветер ???????? 2-6 ?/?', 'Ветер cверный 2-5 м/с',\n",
       "       'Ветер cеверный 1-3 м/с', 'Ветер cеверный 1-5 м/с',\n",
       "       'Ветер cеверный 1-7 м/с', 'Ветер cеверный 2-11 м/с',\n",
       "       'Ветер cеверный 2-5 м/с', 'Ветер cеверный 2-6 м/с',\n",
       "       'Ветер cеверный 2-7 м/с', 'Ветер cеверный 2-8 м/с',\n",
       "       'Ветер cеверный 3-10 м/с', 'Ветер cеверный 3-5 м/с',\n",
       "       'Ветер cеверный 3-6 м/с', 'Ветер cеверный 3-7 м/с'], dtype=object)"
      ]
     },
     "execution_count": 209,
     "metadata": {},
     "output_type": "execute_result"
    }
   ],
   "source": [
    "np.unique(df['wind'])[1:20]"
   ]
  },
  {
   "cell_type": "markdown",
   "metadata": {},
   "source": [
    "Возьмём границы изменения силы ветра в качестве переменных"
   ]
  },
  {
   "cell_type": "code",
   "execution_count": 203,
   "metadata": {},
   "outputs": [],
   "source": [
    "wind_minmax = df['wind'].str.extract('(\\d+)-?(\\d+)? ?.*', expand=False)\n",
    "df['wind_min'] = wind_minmax.iloc[:, 0]\n",
    "df['wind_max'] = wind_minmax.iloc[:, 1]\n",
    "\n",
    "df['wind_max'] = list(map(lambda x: float(df.loc[x[0], 'wind_min']) if np.isnan(float(x[1])) else float(x[1]), enumerate(df['wind_max'].values)))\n",
    "df['wind_min'] = df['wind_min'].astype(float)"
   ]
  },
  {
   "cell_type": "markdown",
   "metadata": {},
   "source": [
    "###  Часть 2. Первичный анализ признаков"
   ]
  },
  {
   "cell_type": "code",
   "execution_count": 204,
   "metadata": {},
   "outputs": [
    {
     "name": "stderr",
     "output_type": "stream",
     "text": [
      "/Users/andrew/miniconda3/lib/python3.6/site-packages/ipykernel_launcher.py:8: SettingWithCopyWarning: \n",
      "A value is trying to be set on a copy of a slice from a DataFrame.\n",
      "Try using .loc[row_indexer,col_indexer] = value instead\n",
      "\n",
      "See the caveats in the documentation: http://pandas.pydata.org/pandas-docs/stable/indexing.html#indexing-view-versus-copy\n",
      "  \n"
     ]
    }
   ],
   "source": [
    "import warnings\n",
    "with warnings.catch_warnings():\n",
    "    warnings.simplefilter(\"ignore\")\n",
    "    \n",
    "X = df[['datetime', 'humidity', 'pressure', 'magn_calm', 'magn_unstable', 'magn_disturbant']]\n",
    "y = df[['temperature']]\n",
    "\n",
    "X['wind_max'] = df['wind_max'].fillna(0).astype(int)"
   ]
  },
  {
   "cell_type": "code",
   "execution_count": 212,
   "metadata": {},
   "outputs": [
    {
     "data": {
      "text/html": [
       "<div>\n",
       "<style>\n",
       "    .dataframe thead tr:only-child th {\n",
       "        text-align: right;\n",
       "    }\n",
       "\n",
       "    .dataframe thead th {\n",
       "        text-align: left;\n",
       "    }\n",
       "\n",
       "    .dataframe tbody tr th {\n",
       "        vertical-align: top;\n",
       "    }\n",
       "</style>\n",
       "<table border=\"1\" class=\"dataframe\">\n",
       "  <thead>\n",
       "    <tr style=\"text-align: right;\">\n",
       "      <th></th>\n",
       "      <th>datetime</th>\n",
       "      <th>humidity</th>\n",
       "      <th>pressure</th>\n",
       "      <th>magn_calm</th>\n",
       "      <th>magn_unstable</th>\n",
       "      <th>magn_disturbant</th>\n",
       "      <th>wind_max</th>\n",
       "    </tr>\n",
       "  </thead>\n",
       "  <tbody>\n",
       "    <tr>\n",
       "      <th>1</th>\n",
       "      <td>2008-06-19 09:00:00</td>\n",
       "      <td>63</td>\n",
       "      <td>741</td>\n",
       "      <td>1</td>\n",
       "      <td>0</td>\n",
       "      <td>0</td>\n",
       "      <td>2</td>\n",
       "    </tr>\n",
       "    <tr>\n",
       "      <th>2</th>\n",
       "      <td>2008-06-19 15:00:00</td>\n",
       "      <td>27</td>\n",
       "      <td>741</td>\n",
       "      <td>1</td>\n",
       "      <td>0</td>\n",
       "      <td>0</td>\n",
       "      <td>5</td>\n",
       "    </tr>\n",
       "    <tr>\n",
       "      <th>3</th>\n",
       "      <td>2008-06-20 09:00:00</td>\n",
       "      <td>50</td>\n",
       "      <td>740</td>\n",
       "      <td>1</td>\n",
       "      <td>0</td>\n",
       "      <td>0</td>\n",
       "      <td>1</td>\n",
       "    </tr>\n",
       "    <tr>\n",
       "      <th>4</th>\n",
       "      <td>2008-06-20 15:00:00</td>\n",
       "      <td>31</td>\n",
       "      <td>740</td>\n",
       "      <td>1</td>\n",
       "      <td>0</td>\n",
       "      <td>0</td>\n",
       "      <td>7</td>\n",
       "    </tr>\n",
       "    <tr>\n",
       "      <th>5</th>\n",
       "      <td>2008-06-21 09:00:00</td>\n",
       "      <td>72</td>\n",
       "      <td>740</td>\n",
       "      <td>1</td>\n",
       "      <td>0</td>\n",
       "      <td>0</td>\n",
       "      <td>3</td>\n",
       "    </tr>\n",
       "    <tr>\n",
       "      <th>6</th>\n",
       "      <td>2008-06-21 15:00:00</td>\n",
       "      <td>49</td>\n",
       "      <td>739</td>\n",
       "      <td>1</td>\n",
       "      <td>0</td>\n",
       "      <td>0</td>\n",
       "      <td>4</td>\n",
       "    </tr>\n",
       "    <tr>\n",
       "      <th>7</th>\n",
       "      <td>2008-06-22 09:00:00</td>\n",
       "      <td>64</td>\n",
       "      <td>740</td>\n",
       "      <td>1</td>\n",
       "      <td>0</td>\n",
       "      <td>0</td>\n",
       "      <td>3</td>\n",
       "    </tr>\n",
       "    <tr>\n",
       "      <th>8</th>\n",
       "      <td>2008-06-22 15:00:00</td>\n",
       "      <td>50</td>\n",
       "      <td>740</td>\n",
       "      <td>1</td>\n",
       "      <td>0</td>\n",
       "      <td>0</td>\n",
       "      <td>4</td>\n",
       "    </tr>\n",
       "    <tr>\n",
       "      <th>9</th>\n",
       "      <td>2008-06-23 09:00:00</td>\n",
       "      <td>61</td>\n",
       "      <td>740</td>\n",
       "      <td>1</td>\n",
       "      <td>0</td>\n",
       "      <td>0</td>\n",
       "      <td>2</td>\n",
       "    </tr>\n",
       "  </tbody>\n",
       "</table>\n",
       "</div>"
      ],
      "text/plain": [
       "             datetime  humidity  pressure  magn_calm  magn_unstable  \\\n",
       "1 2008-06-19 09:00:00        63       741          1              0   \n",
       "2 2008-06-19 15:00:00        27       741          1              0   \n",
       "3 2008-06-20 09:00:00        50       740          1              0   \n",
       "4 2008-06-20 15:00:00        31       740          1              0   \n",
       "5 2008-06-21 09:00:00        72       740          1              0   \n",
       "6 2008-06-21 15:00:00        49       739          1              0   \n",
       "7 2008-06-22 09:00:00        64       740          1              0   \n",
       "8 2008-06-22 15:00:00        50       740          1              0   \n",
       "9 2008-06-23 09:00:00        61       740          1              0   \n",
       "\n",
       "   magn_disturbant  wind_max  \n",
       "1                0         2  \n",
       "2                0         5  \n",
       "3                0         1  \n",
       "4                0         7  \n",
       "5                0         3  \n",
       "6                0         4  \n",
       "7                0         3  \n",
       "8                0         4  \n",
       "9                0         2  "
      ]
     },
     "execution_count": 212,
     "metadata": {},
     "output_type": "execute_result"
    }
   ],
   "source": [
    "X.iloc[1:10,:]"
   ]
  },
  {
   "cell_type": "markdown",
   "metadata": {},
   "source": [
    "###  Часть 3. Первичный визуальный анализ признаков"
   ]
  },
  {
   "cell_type": "code",
   "execution_count": 219,
   "metadata": {},
   "outputs": [
    {
     "data": {
      "image/png": "[encoded data removed]",
      "text/plain": [
       "<matplotlib.figure.Figure at 0x1a186f7438>"
      ]
     },
     "metadata": {},
     "output_type": "display_data"
    }
   ],
   "source": [
    "sns.countplot(X['magn_calm']);"
   ]
  },
  {
   "cell_type": "code",
   "execution_count": 220,
   "metadata": {},
   "outputs": [
    {
     "data": {
      "image/png": "[encoded data removed]",
      "text/plain": [
       "<matplotlib.figure.Figure at 0x1a186f7b38>"
      ]
     },
     "metadata": {},
     "output_type": "display_data"
    }
   ],
   "source": [
    "sns.countplot(X['magn_unstable']);"
   ]
  },
  {
   "cell_type": "code",
   "execution_count": 221,
   "metadata": {},
   "outputs": [
    {
     "data": {
      "image/png": "[encoded data removed]",
      "text/plain": [
       "<matplotlib.figure.Figure at 0x1a18aedb38>"
      ]
     },
     "metadata": {},
     "output_type": "display_data"
    }
   ],
   "source": [
    "sns.countplot(X['magn_disturbant']);"
   ]
  },
  {
   "cell_type": "code",
   "execution_count": null,
   "metadata": {
    "collapsed": true
   },
   "outputs": [],
   "source": []
  },
  {
   "cell_type": "code",
   "execution_count": null,
   "metadata": {
    "collapsed": true
   },
   "outputs": [],
   "source": []
  },
  {
   "cell_type": "markdown",
   "metadata": {},
   "source": [
    "###  Часть 4. Закономерности, \"инсайты\", особенности данных"
   ]
  },
  {
   "cell_type": "code",
   "execution_count": null,
   "metadata": {
    "collapsed": true
   },
   "outputs": [],
   "source": []
  },
  {
   "cell_type": "markdown",
   "metadata": {},
   "source": [
    "###  Часть 5. Предобработка данных "
   ]
  },
  {
   "cell_type": "code",
   "execution_count": null,
   "metadata": {
    "collapsed": true
   },
   "outputs": [],
   "source": []
  },
  {
   "cell_type": "markdown",
   "metadata": {},
   "source": [
    "###  Часть 6. Создание новых признаков и описание этого процесса"
   ]
  },
  {
   "cell_type": "code",
   "execution_count": null,
   "metadata": {
    "collapsed": true
   },
   "outputs": [],
   "source": []
  },
  {
   "cell_type": "markdown",
   "metadata": {},
   "source": [
    "###  Часть 7. Кросс-валидация, подбор параметров"
   ]
  },
  {
   "cell_type": "code",
   "execution_count": null,
   "metadata": {
    "collapsed": true
   },
   "outputs": [],
   "source": []
  },
  {
   "cell_type": "markdown",
   "metadata": {},
   "source": [
    "###  Часть 8. Построение кривых валидации и обучения "
   ]
  },
  {
   "cell_type": "code",
   "execution_count": null,
   "metadata": {
    "collapsed": true
   },
   "outputs": [],
   "source": []
  },
  {
   "cell_type": "markdown",
   "metadata": {},
   "source": [
    "###  Часть 9. Прогноз для тестовой или отложенной выборки"
   ]
  },
  {
   "cell_type": "code",
   "execution_count": null,
   "metadata": {
    "collapsed": true
   },
   "outputs": [],
   "source": []
  },
  {
   "cell_type": "markdown",
   "metadata": {},
   "source": [
    "###  Часть 10. Оценка модели с описанием выбранной метрики"
   ]
  },
  {
   "cell_type": "code",
   "execution_count": null,
   "metadata": {
    "collapsed": true
   },
   "outputs": [],
   "source": []
  },
  {
   "cell_type": "markdown",
   "metadata": {},
   "source": [
    "### Часть 11. Выводы "
   ]
  },
  {
   "cell_type": "code",
   "execution_count": null,
   "metadata": {
    "collapsed": true
   },
   "outputs": [],
   "source": []
  }
 ],
 "metadata": {
  "kernelspec": {
   "display_name": "Python 3",
   "language": "python",
   "name": "python3"
  },
  "language_info": {
   "codemirror_mode": {
    "name": "ipython",
    "version": 3
   },
   "file_extension": ".py",
   "mimetype": "text/x-python",
   "name": "python",
   "nbconvert_exporter": "python",
   "pygments_lexer": "ipython3",
   "version": "3.6.1"
  }
 },
 "nbformat": 4,
 "nbformat_minor": 1
}
